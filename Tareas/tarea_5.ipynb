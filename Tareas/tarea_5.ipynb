{
  "nbformat": 4,
  "nbformat_minor": 0,
  "metadata": {
    "colab": {
      "name": "tarea_5.ipynb",
      "provenance": [],
      "collapsed_sections": []
    },
    "kernelspec": {
      "name": "python3",
      "display_name": "Python 3"
    },
    "language_info": {
      "name": "python"
    }
  },
  "cells": [
    {
      "cell_type": "markdown",
      "metadata": {
        "id": "QR0IUPWU4-Kw"
      },
      "source": [
        "# Tarea 5\n",
        "### Sebastián Murillo García 191838\n",
        "15 de noviembre, 2021\n",
        "\n",
        "---"
      ]
    },
    {
      "cell_type": "markdown",
      "metadata": {
        "id": "wjGQSs6RTHb2"
      },
      "source": [
        "**Nota**: Se dejaron comentadas aquellas \"impresiones\" de los *Dataframes* que se fueron generando en el notebook durante la resolución de la tarea, pero que no responde a ninguna pregunta de la tarea. Simplemente se tienen para tener un control más claro de lo que estamos haciendo en cada celda de código."
      ]
    },
    {
      "cell_type": "code",
      "metadata": {
        "id": "2k1Tzx-QZpHz"
      },
      "source": [
        "import pandas as pd"
      ],
      "execution_count": 25,
      "outputs": []
    },
    {
      "cell_type": "markdown",
      "metadata": {
        "id": "dpZlCU3G6NQB"
      },
      "source": [
        "### 1. Carga de datos a Pandas\n",
        "\n",
        "---\n"
      ]
    },
    {
      "cell_type": "markdown",
      "metadata": {
        "id": "TPPAG1dV7w2Z"
      },
      "source": [
        "*    Utilizamos `pd.read_csv` para leer y almacenar en un *dataframe* el archivo `.csv` correspondiente a `casos_nacionales_covid-19`."
      ]
    },
    {
      "cell_type": "code",
      "metadata": {
        "id": "OIlCaDjQhvMw"
      },
      "source": [
        "casos_covid = pd.read_csv(\"https://archivo.datos.cdmx.gob.mx/casos_nacionales_covid-19.csv\")"
      ],
      "execution_count": 26,
      "outputs": []
    },
    {
      "cell_type": "markdown",
      "metadata": {
        "id": "0jSlTvbN8C6X"
      },
      "source": [
        "*    Eliminamos la primera columna (`Unnamed: 0`) con la función `drop` sin crear un nuevo *dataframe*."
      ]
    },
    {
      "cell_type": "code",
      "metadata": {
        "id": "6JdGZWK7kSHb"
      },
      "source": [
        "casos_covid.drop(['Unnamed: 0'], axis=1, inplace=True)"
      ],
      "execution_count": 27,
      "outputs": []
    },
    {
      "cell_type": "markdown",
      "metadata": {
        "id": "0r4AABV28NpE"
      },
      "source": [
        "*    Cambiamos los tipos de datos de las columnas `fecha_ingreso`, `fecha_sintomas` y `fecha_def` a `date` con la función `to_datetime()` de pandas. El formato de la fecha está como `yyyy-mm-dd`."
      ]
    },
    {
      "cell_type": "code",
      "metadata": {
        "id": "BxZwIg-xkqUg"
      },
      "source": [
        "casos_covid.fecha_ingreso = pd.to_datetime(casos_covid.fecha_ingreso, errors='coerce', format='%Y-%m-%d')\n",
        "casos_covid.fecha_sintomas = pd.to_datetime(casos_covid.fecha_sintomas, errors='coerce', format='%Y-%m-%d')\n",
        "casos_covid.fecha_def = pd.to_datetime(casos_covid.fecha_def, errors='coerce', format='%Y-%m-%d')\n",
        "\n",
        "#casos_covid"
      ],
      "execution_count": null,
      "outputs": []
    },
    {
      "cell_type": "markdown",
      "metadata": {
        "id": "1krT3Tva6RUF"
      },
      "source": [
        "### 2. Análisis de defunciones\n",
        "\n",
        "---"
      ]
    },
    {
      "cell_type": "markdown",
      "metadata": {
        "id": "mbM54dRY-oWO"
      },
      "source": [
        "*    Generamos un *dataframe* llamado `defunciones`, el cual solamente contiene registros que tienen asociada una fecha de defunción."
      ]
    },
    {
      "cell_type": "code",
      "metadata": {
        "id": "cXdAW4Gc6TJn"
      },
      "source": [
        "defunciones = casos_covid[casos_covid.fecha_def.notnull()]\n",
        "#defunciones"
      ],
      "execution_count": 55,
      "outputs": []
    },
    {
      "cell_type": "markdown",
      "metadata": {
        "id": "rENghw3V-4R8"
      },
      "source": [
        "*    Conteo de registros existentes por entidad de residencia (`entidad_res`)."
      ]
    },
    {
      "cell_type": "code",
      "metadata": {
        "id": "N8rPXHpBBfzo",
        "colab": {
          "base_uri": "https://localhost:8080/",
          "height": 731
        },
        "outputId": "341c31e3-8ef0-40da-e008-f6b07a874ec7"
      },
      "source": [
        "num_defunciones_x_entidad = defunciones.groupby(['entidad_res'], as_index=False)['id_registro'].count().rename(columns={'id_registro': 'num_defunciones'})\n",
        "num_defunciones_x_entidad"
      ],
      "execution_count": 59,
      "outputs": [
        {
          "output_type": "execute_result",
          "data": {
            "text/html": [
              "<div>\n",
              "<style scoped>\n",
              "    .dataframe tbody tr th:only-of-type {\n",
              "        vertical-align: middle;\n",
              "    }\n",
              "\n",
              "    .dataframe tbody tr th {\n",
              "        vertical-align: top;\n",
              "    }\n",
              "\n",
              "    .dataframe thead th {\n",
              "        text-align: right;\n",
              "    }\n",
              "</style>\n",
              "<table border=\"1\" class=\"dataframe\">\n",
              "  <thead>\n",
              "    <tr style=\"text-align: right;\">\n",
              "      <th></th>\n",
              "      <th>entidad_res</th>\n",
              "      <th>num_defunciones</th>\n",
              "    </tr>\n",
              "  </thead>\n",
              "  <tbody>\n",
              "    <tr>\n",
              "      <th>0</th>\n",
              "      <td>GUANAJUATO</td>\n",
              "      <td>62</td>\n",
              "    </tr>\n",
              "    <tr>\n",
              "      <th>1</th>\n",
              "      <td>GUERRERO</td>\n",
              "      <td>193</td>\n",
              "    </tr>\n",
              "    <tr>\n",
              "      <th>2</th>\n",
              "      <td>HIDALGO</td>\n",
              "      <td>528</td>\n",
              "    </tr>\n",
              "    <tr>\n",
              "      <th>3</th>\n",
              "      <td>JALISCO</td>\n",
              "      <td>13</td>\n",
              "    </tr>\n",
              "    <tr>\n",
              "      <th>4</th>\n",
              "      <td>MICHOACÁN DE OCAMPO</td>\n",
              "      <td>81</td>\n",
              "    </tr>\n",
              "    <tr>\n",
              "      <th>5</th>\n",
              "      <td>MORELOS</td>\n",
              "      <td>179</td>\n",
              "    </tr>\n",
              "    <tr>\n",
              "      <th>6</th>\n",
              "      <td>MÉXICO</td>\n",
              "      <td>16662</td>\n",
              "    </tr>\n",
              "    <tr>\n",
              "      <th>7</th>\n",
              "      <td>NAYARIT</td>\n",
              "      <td>3</td>\n",
              "    </tr>\n",
              "    <tr>\n",
              "      <th>8</th>\n",
              "      <td>NUEVO LEÓN</td>\n",
              "      <td>14</td>\n",
              "    </tr>\n",
              "    <tr>\n",
              "      <th>9</th>\n",
              "      <td>OAXACA</td>\n",
              "      <td>89</td>\n",
              "    </tr>\n",
              "    <tr>\n",
              "      <th>10</th>\n",
              "      <td>PUEBLA</td>\n",
              "      <td>298</td>\n",
              "    </tr>\n",
              "    <tr>\n",
              "      <th>11</th>\n",
              "      <td>QUERÉTARO</td>\n",
              "      <td>55</td>\n",
              "    </tr>\n",
              "    <tr>\n",
              "      <th>12</th>\n",
              "      <td>QUINTANA ROO</td>\n",
              "      <td>12</td>\n",
              "    </tr>\n",
              "    <tr>\n",
              "      <th>13</th>\n",
              "      <td>SAN LUIS POTOSÍ</td>\n",
              "      <td>20</td>\n",
              "    </tr>\n",
              "    <tr>\n",
              "      <th>14</th>\n",
              "      <td>SINALOA</td>\n",
              "      <td>6</td>\n",
              "    </tr>\n",
              "    <tr>\n",
              "      <th>15</th>\n",
              "      <td>SONORA</td>\n",
              "      <td>6</td>\n",
              "    </tr>\n",
              "    <tr>\n",
              "      <th>16</th>\n",
              "      <td>TABASCO</td>\n",
              "      <td>4</td>\n",
              "    </tr>\n",
              "    <tr>\n",
              "      <th>17</th>\n",
              "      <td>TAMAULIPAS</td>\n",
              "      <td>20</td>\n",
              "    </tr>\n",
              "    <tr>\n",
              "      <th>18</th>\n",
              "      <td>TLAXCALA</td>\n",
              "      <td>72</td>\n",
              "    </tr>\n",
              "    <tr>\n",
              "      <th>19</th>\n",
              "      <td>VERACRUZ DE IGNACIO DE LA LLAVE</td>\n",
              "      <td>117</td>\n",
              "    </tr>\n",
              "    <tr>\n",
              "      <th>20</th>\n",
              "      <td>YUCATÁN</td>\n",
              "      <td>5</td>\n",
              "    </tr>\n",
              "    <tr>\n",
              "      <th>21</th>\n",
              "      <td>ZACATECAS</td>\n",
              "      <td>5</td>\n",
              "    </tr>\n",
              "  </tbody>\n",
              "</table>\n",
              "</div>"
            ],
            "text/plain": [
              "                        entidad_res  num_defunciones\n",
              "0                        GUANAJUATO               62\n",
              "1                          GUERRERO              193\n",
              "2                           HIDALGO              528\n",
              "3                           JALISCO               13\n",
              "4               MICHOACÁN DE OCAMPO               81\n",
              "5                           MORELOS              179\n",
              "6                            MÉXICO            16662\n",
              "7                           NAYARIT                3\n",
              "8                        NUEVO LEÓN               14\n",
              "9                            OAXACA               89\n",
              "10                           PUEBLA              298\n",
              "11                        QUERÉTARO               55\n",
              "12                     QUINTANA ROO               12\n",
              "13                  SAN LUIS POTOSÍ               20\n",
              "14                          SINALOA                6\n",
              "15                           SONORA                6\n",
              "16                          TABASCO                4\n",
              "17                       TAMAULIPAS               20\n",
              "18                         TLAXCALA               72\n",
              "19  VERACRUZ DE IGNACIO DE LA LLAVE              117\n",
              "20                          YUCATÁN                5\n",
              "21                        ZACATECAS                5"
            ]
          },
          "metadata": {},
          "execution_count": 59
        }
      ]
    },
    {
      "cell_type": "markdown",
      "metadata": {
        "id": "gQO8V20__Mhs"
      },
      "source": [
        "*    Obtención del top 10 de entidades con mayor número de defunciones."
      ]
    },
    {
      "cell_type": "code",
      "metadata": {
        "id": "E-DQRblZHrL7",
        "colab": {
          "base_uri": "https://localhost:8080/",
          "height": 359
        },
        "outputId": "5cda96e7-4156-46cc-c241-8fa9a1c6fc0c"
      },
      "source": [
        "top_10_num_def_x_entidad = num_defunciones_x_entidad.sort_values(by=['num_defunciones'], ascending=False).head(10)\n",
        "top_10_num_def_x_entidad"
      ],
      "execution_count": 61,
      "outputs": [
        {
          "output_type": "execute_result",
          "data": {
            "text/html": [
              "<div>\n",
              "<style scoped>\n",
              "    .dataframe tbody tr th:only-of-type {\n",
              "        vertical-align: middle;\n",
              "    }\n",
              "\n",
              "    .dataframe tbody tr th {\n",
              "        vertical-align: top;\n",
              "    }\n",
              "\n",
              "    .dataframe thead th {\n",
              "        text-align: right;\n",
              "    }\n",
              "</style>\n",
              "<table border=\"1\" class=\"dataframe\">\n",
              "  <thead>\n",
              "    <tr style=\"text-align: right;\">\n",
              "      <th></th>\n",
              "      <th>entidad_res</th>\n",
              "      <th>num_defunciones</th>\n",
              "    </tr>\n",
              "  </thead>\n",
              "  <tbody>\n",
              "    <tr>\n",
              "      <th>6</th>\n",
              "      <td>MÉXICO</td>\n",
              "      <td>16662</td>\n",
              "    </tr>\n",
              "    <tr>\n",
              "      <th>2</th>\n",
              "      <td>HIDALGO</td>\n",
              "      <td>528</td>\n",
              "    </tr>\n",
              "    <tr>\n",
              "      <th>10</th>\n",
              "      <td>PUEBLA</td>\n",
              "      <td>298</td>\n",
              "    </tr>\n",
              "    <tr>\n",
              "      <th>1</th>\n",
              "      <td>GUERRERO</td>\n",
              "      <td>193</td>\n",
              "    </tr>\n",
              "    <tr>\n",
              "      <th>5</th>\n",
              "      <td>MORELOS</td>\n",
              "      <td>179</td>\n",
              "    </tr>\n",
              "    <tr>\n",
              "      <th>19</th>\n",
              "      <td>VERACRUZ DE IGNACIO DE LA LLAVE</td>\n",
              "      <td>117</td>\n",
              "    </tr>\n",
              "    <tr>\n",
              "      <th>9</th>\n",
              "      <td>OAXACA</td>\n",
              "      <td>89</td>\n",
              "    </tr>\n",
              "    <tr>\n",
              "      <th>4</th>\n",
              "      <td>MICHOACÁN DE OCAMPO</td>\n",
              "      <td>81</td>\n",
              "    </tr>\n",
              "    <tr>\n",
              "      <th>18</th>\n",
              "      <td>TLAXCALA</td>\n",
              "      <td>72</td>\n",
              "    </tr>\n",
              "    <tr>\n",
              "      <th>0</th>\n",
              "      <td>GUANAJUATO</td>\n",
              "      <td>62</td>\n",
              "    </tr>\n",
              "  </tbody>\n",
              "</table>\n",
              "</div>"
            ],
            "text/plain": [
              "                        entidad_res  num_defunciones\n",
              "6                            MÉXICO            16662\n",
              "2                           HIDALGO              528\n",
              "10                           PUEBLA              298\n",
              "1                          GUERRERO              193\n",
              "5                           MORELOS              179\n",
              "19  VERACRUZ DE IGNACIO DE LA LLAVE              117\n",
              "9                            OAXACA               89\n",
              "4               MICHOACÁN DE OCAMPO               81\n",
              "18                         TLAXCALA               72\n",
              "0                        GUANAJUATO               62"
            ]
          },
          "metadata": {},
          "execution_count": 61
        }
      ]
    },
    {
      "cell_type": "markdown",
      "metadata": {
        "id": "RAGUHkctJvx7"
      },
      "source": [
        "### 3. Análisis de comorbilidad\n",
        "\n",
        "---"
      ]
    },
    {
      "cell_type": "markdown",
      "metadata": {
        "id": "jIFko0CKAsPf"
      },
      "source": [
        "*    Se acomodaron los datos para que las columnas: `neumonia`, `embarazo`, `diabetes`, `epoc`, `asma`, `inmusupr`, `hipertension`, `otra_com`, `cardiovascular`, `obesidad`, `renal_cronica`, `tabaquismo` y `otro_caso`, estuvieran en una sola columna llamada `comorbilidad` y el valor asociado estuviera en otra llamada `valor`."
      ]
    },
    {
      "cell_type": "code",
      "metadata": {
        "id": "pZsNKcyoJ0C_"
      },
      "source": [
        "comorbilidad_def = defunciones.melt(id_vars=['id_registro','entidad_res'], \n",
        "                 value_vars=['neumonia','embarazo','diabetes','epoc','asma','inmusupr','hipertension','otra_com','cardiovascular','obesidad','renal_cronica','tabaquismo','otro_caso'], \n",
        "                 var_name=\"comorbilidad\", value_name=\"valor\")\n",
        "#comorbilidad_def"
      ],
      "execution_count": 62,
      "outputs": []
    },
    {
      "cell_type": "markdown",
      "metadata": {
        "id": "Y7YkQiJZCGIF"
      },
      "source": [
        "*    Conteo de registros de defunciones existentes por `comorbilidad`."
      ]
    },
    {
      "cell_type": "code",
      "metadata": {
        "id": "U9S3z7xXfLCT",
        "colab": {
          "base_uri": "https://localhost:8080/",
          "height": 452
        },
        "outputId": "fa0d96d0-262e-4c9a-9e6d-35811b20fee9"
      },
      "source": [
        "num_def_x_comorbilidad = comorbilidad_def[comorbilidad_def['valor'] == 'SI'].groupby(['comorbilidad'], as_index=False)['id_registro'].count().rename(columns={'id_registro': 'num_defunciones'})\n",
        "num_def_x_comorbilidad"
      ],
      "execution_count": 63,
      "outputs": [
        {
          "output_type": "execute_result",
          "data": {
            "text/html": [
              "<div>\n",
              "<style scoped>\n",
              "    .dataframe tbody tr th:only-of-type {\n",
              "        vertical-align: middle;\n",
              "    }\n",
              "\n",
              "    .dataframe tbody tr th {\n",
              "        vertical-align: top;\n",
              "    }\n",
              "\n",
              "    .dataframe thead th {\n",
              "        text-align: right;\n",
              "    }\n",
              "</style>\n",
              "<table border=\"1\" class=\"dataframe\">\n",
              "  <thead>\n",
              "    <tr style=\"text-align: right;\">\n",
              "      <th></th>\n",
              "      <th>comorbilidad</th>\n",
              "      <th>num_defunciones</th>\n",
              "    </tr>\n",
              "  </thead>\n",
              "  <tbody>\n",
              "    <tr>\n",
              "      <th>0</th>\n",
              "      <td>asma</td>\n",
              "      <td>873</td>\n",
              "    </tr>\n",
              "    <tr>\n",
              "      <th>1</th>\n",
              "      <td>cardiovascular</td>\n",
              "      <td>3576</td>\n",
              "    </tr>\n",
              "    <tr>\n",
              "      <th>2</th>\n",
              "      <td>diabetes</td>\n",
              "      <td>23121</td>\n",
              "    </tr>\n",
              "    <tr>\n",
              "      <th>3</th>\n",
              "      <td>embarazo</td>\n",
              "      <td>40</td>\n",
              "    </tr>\n",
              "    <tr>\n",
              "      <th>4</th>\n",
              "      <td>epoc</td>\n",
              "      <td>2962</td>\n",
              "    </tr>\n",
              "    <tr>\n",
              "      <th>5</th>\n",
              "      <td>hipertension</td>\n",
              "      <td>26990</td>\n",
              "    </tr>\n",
              "    <tr>\n",
              "      <th>6</th>\n",
              "      <td>inmusupr</td>\n",
              "      <td>2001</td>\n",
              "    </tr>\n",
              "    <tr>\n",
              "      <th>7</th>\n",
              "      <td>neumonia</td>\n",
              "      <td>50683</td>\n",
              "    </tr>\n",
              "    <tr>\n",
              "      <th>8</th>\n",
              "      <td>obesidad</td>\n",
              "      <td>13398</td>\n",
              "    </tr>\n",
              "    <tr>\n",
              "      <th>9</th>\n",
              "      <td>otra_com</td>\n",
              "      <td>3649</td>\n",
              "    </tr>\n",
              "    <tr>\n",
              "      <th>10</th>\n",
              "      <td>otro_caso</td>\n",
              "      <td>14522</td>\n",
              "    </tr>\n",
              "    <tr>\n",
              "      <th>11</th>\n",
              "      <td>renal_cronica</td>\n",
              "      <td>4521</td>\n",
              "    </tr>\n",
              "    <tr>\n",
              "      <th>12</th>\n",
              "      <td>tabaquismo</td>\n",
              "      <td>6534</td>\n",
              "    </tr>\n",
              "  </tbody>\n",
              "</table>\n",
              "</div>"
            ],
            "text/plain": [
              "      comorbilidad  num_defunciones\n",
              "0             asma              873\n",
              "1   cardiovascular             3576\n",
              "2         diabetes            23121\n",
              "3         embarazo               40\n",
              "4             epoc             2962\n",
              "5     hipertension            26990\n",
              "6         inmusupr             2001\n",
              "7         neumonia            50683\n",
              "8         obesidad            13398\n",
              "9         otra_com             3649\n",
              "10       otro_caso            14522\n",
              "11   renal_cronica             4521\n",
              "12      tabaquismo             6534"
            ]
          },
          "metadata": {},
          "execution_count": 63
        }
      ]
    },
    {
      "cell_type": "markdown",
      "metadata": {
        "id": "empc67JnLiUp"
      },
      "source": [
        "*    Conteo de registros de defunciones existentes por entidad de residencia (`entidad_res`) y `comorbilidad`."
      ]
    },
    {
      "cell_type": "code",
      "metadata": {
        "id": "PlktzW1kjYpK",
        "colab": {
          "base_uri": "https://localhost:8080/",
          "height": 419
        },
        "outputId": "236dd318-f627-4d14-e65c-90e08a6ed466"
      },
      "source": [
        "num_def_x_comorbilidad_res = comorbilidad_def[comorbilidad_def['valor'] == 'SI'].groupby(['entidad_res','comorbilidad'], as_index=False)['id_registro'].count().rename(columns={'id_registro': 'num_defunciones'})\n",
        "num_def_x_comorbilidad_res"
      ],
      "execution_count": 64,
      "outputs": [
        {
          "output_type": "execute_result",
          "data": {
            "text/html": [
              "<div>\n",
              "<style scoped>\n",
              "    .dataframe tbody tr th:only-of-type {\n",
              "        vertical-align: middle;\n",
              "    }\n",
              "\n",
              "    .dataframe tbody tr th {\n",
              "        vertical-align: top;\n",
              "    }\n",
              "\n",
              "    .dataframe thead th {\n",
              "        text-align: right;\n",
              "    }\n",
              "</style>\n",
              "<table border=\"1\" class=\"dataframe\">\n",
              "  <thead>\n",
              "    <tr style=\"text-align: right;\">\n",
              "      <th></th>\n",
              "      <th>entidad_res</th>\n",
              "      <th>comorbilidad</th>\n",
              "      <th>num_defunciones</th>\n",
              "    </tr>\n",
              "  </thead>\n",
              "  <tbody>\n",
              "    <tr>\n",
              "      <th>0</th>\n",
              "      <td>GUANAJUATO</td>\n",
              "      <td>asma</td>\n",
              "      <td>1</td>\n",
              "    </tr>\n",
              "    <tr>\n",
              "      <th>1</th>\n",
              "      <td>GUANAJUATO</td>\n",
              "      <td>cardiovascular</td>\n",
              "      <td>3</td>\n",
              "    </tr>\n",
              "    <tr>\n",
              "      <th>2</th>\n",
              "      <td>GUANAJUATO</td>\n",
              "      <td>diabetes</td>\n",
              "      <td>17</td>\n",
              "    </tr>\n",
              "    <tr>\n",
              "      <th>3</th>\n",
              "      <td>GUANAJUATO</td>\n",
              "      <td>epoc</td>\n",
              "      <td>1</td>\n",
              "    </tr>\n",
              "    <tr>\n",
              "      <th>4</th>\n",
              "      <td>GUANAJUATO</td>\n",
              "      <td>hipertension</td>\n",
              "      <td>14</td>\n",
              "    </tr>\n",
              "    <tr>\n",
              "      <th>...</th>\n",
              "      <td>...</td>\n",
              "      <td>...</td>\n",
              "      <td>...</td>\n",
              "    </tr>\n",
              "    <tr>\n",
              "      <th>203</th>\n",
              "      <td>ZACATECAS</td>\n",
              "      <td>asma</td>\n",
              "      <td>1</td>\n",
              "    </tr>\n",
              "    <tr>\n",
              "      <th>204</th>\n",
              "      <td>ZACATECAS</td>\n",
              "      <td>diabetes</td>\n",
              "      <td>1</td>\n",
              "    </tr>\n",
              "    <tr>\n",
              "      <th>205</th>\n",
              "      <td>ZACATECAS</td>\n",
              "      <td>epoc</td>\n",
              "      <td>1</td>\n",
              "    </tr>\n",
              "    <tr>\n",
              "      <th>206</th>\n",
              "      <td>ZACATECAS</td>\n",
              "      <td>neumonia</td>\n",
              "      <td>3</td>\n",
              "    </tr>\n",
              "    <tr>\n",
              "      <th>207</th>\n",
              "      <td>ZACATECAS</td>\n",
              "      <td>otro_caso</td>\n",
              "      <td>2</td>\n",
              "    </tr>\n",
              "  </tbody>\n",
              "</table>\n",
              "<p>208 rows × 3 columns</p>\n",
              "</div>"
            ],
            "text/plain": [
              "    entidad_res    comorbilidad  num_defunciones\n",
              "0    GUANAJUATO            asma                1\n",
              "1    GUANAJUATO  cardiovascular                3\n",
              "2    GUANAJUATO        diabetes               17\n",
              "3    GUANAJUATO            epoc                1\n",
              "4    GUANAJUATO    hipertension               14\n",
              "..          ...             ...              ...\n",
              "203   ZACATECAS            asma                1\n",
              "204   ZACATECAS        diabetes                1\n",
              "205   ZACATECAS            epoc                1\n",
              "206   ZACATECAS        neumonia                3\n",
              "207   ZACATECAS       otro_caso                2\n",
              "\n",
              "[208 rows x 3 columns]"
            ]
          },
          "metadata": {},
          "execution_count": 64
        }
      ]
    },
    {
      "cell_type": "markdown",
      "metadata": {
        "id": "L64W8a5xkDpH"
      },
      "source": [
        "### 4. Casos de sobrevivientes\n",
        "\n",
        "---"
      ]
    },
    {
      "cell_type": "markdown",
      "metadata": {
        "id": "m9TwFERvWo6M"
      },
      "source": [
        "*Dataframe* de sobrevivientes:"
      ]
    },
    {
      "cell_type": "code",
      "metadata": {
        "id": "feBIegs7kFrm"
      },
      "source": [
        "sobrevivientes = casos_covid[casos_covid.fecha_def.isnull()]\n",
        "#sobrevivientes"
      ],
      "execution_count": 35,
      "outputs": []
    },
    {
      "cell_type": "markdown",
      "metadata": {
        "id": "H50tWcJMPH6m"
      },
      "source": [
        "*    Porcentaje de registros de sobrevivientes que estuvieron entubados y no entubados (o cualquier otro caso)."
      ]
    },
    {
      "cell_type": "code",
      "metadata": {
        "id": "KUk098G-l418",
        "colab": {
          "base_uri": "https://localhost:8080/"
        },
        "outputId": "0d10d54f-a053-45a4-a90f-5f1d509c0923"
      },
      "source": [
        "porcentaje_intubados = sobrevivientes.value_counts(['intubado'], normalize=True).apply(lambda x: x * 100)\n",
        "porcentaje_intubados"
      ],
      "execution_count": 65,
      "outputs": [
        {
          "output_type": "execute_result",
          "data": {
            "text/plain": [
              "intubado       \n",
              "NO APLICA          96.876159\n",
              "NO                  2.941100\n",
              "SI                  0.167363\n",
              "NO ESPECIFICADO     0.015377\n",
              "dtype: float64"
            ]
          },
          "metadata": {},
          "execution_count": 65
        }
      ]
    },
    {
      "cell_type": "markdown",
      "metadata": {
        "id": "yErDClLlW05v"
      },
      "source": [
        "*Dataframe* con columna `comorbilidad` para el caso de los sobrevivientes:"
      ]
    },
    {
      "cell_type": "code",
      "metadata": {
        "id": "pavvm106vCwr"
      },
      "source": [
        "comorbilidad_sobrev = sobrevivientes.melt(id_vars=['id_registro','entidad_res'], \n",
        "                 value_vars=['neumonia','embarazo','diabetes','epoc','asma','inmusupr','hipertension','otra_com','cardiovascular','obesidad','renal_cronica','tabaquismo','otro_caso'], \n",
        "                 var_name=\"comorbilidad\", value_name=\"valor\")\n",
        "#comorbilidad_sobrev"
      ],
      "execution_count": null,
      "outputs": []
    },
    {
      "cell_type": "markdown",
      "metadata": {
        "id": "AZcUlzA0Pfe-"
      },
      "source": [
        "*    Conteo de registros de sobrevivientes existentes por entidad de residencia (`entidad_res`) y `comorbilidad`."
      ]
    },
    {
      "cell_type": "code",
      "metadata": {
        "id": "MrYxuolrvSpt",
        "colab": {
          "base_uri": "https://localhost:8080/",
          "height": 419
        },
        "outputId": "8368cc57-50ce-49bb-861b-1d53114ffd76"
      },
      "source": [
        "num_reg_x_comorbilidad_res = comorbilidad_sobrev[comorbilidad_sobrev['valor'] == 'SI'].groupby(['entidad_res','comorbilidad'], as_index=False)['id_registro'].count().rename(columns={'id_registro': 'num_registros'})\n",
        "num_reg_x_comorbilidad_res"
      ],
      "execution_count": 66,
      "outputs": [
        {
          "output_type": "execute_result",
          "data": {
            "text/html": [
              "<div>\n",
              "<style scoped>\n",
              "    .dataframe tbody tr th:only-of-type {\n",
              "        vertical-align: middle;\n",
              "    }\n",
              "\n",
              "    .dataframe tbody tr th {\n",
              "        vertical-align: top;\n",
              "    }\n",
              "\n",
              "    .dataframe thead th {\n",
              "        text-align: right;\n",
              "    }\n",
              "</style>\n",
              "<table border=\"1\" class=\"dataframe\">\n",
              "  <thead>\n",
              "    <tr style=\"text-align: right;\">\n",
              "      <th></th>\n",
              "      <th>entidad_res</th>\n",
              "      <th>comorbilidad</th>\n",
              "      <th>num_registros</th>\n",
              "    </tr>\n",
              "  </thead>\n",
              "  <tbody>\n",
              "    <tr>\n",
              "      <th>0</th>\n",
              "      <td>DURANGO</td>\n",
              "      <td>asma</td>\n",
              "      <td>6</td>\n",
              "    </tr>\n",
              "    <tr>\n",
              "      <th>1</th>\n",
              "      <td>DURANGO</td>\n",
              "      <td>cardiovascular</td>\n",
              "      <td>2</td>\n",
              "    </tr>\n",
              "    <tr>\n",
              "      <th>2</th>\n",
              "      <td>DURANGO</td>\n",
              "      <td>diabetes</td>\n",
              "      <td>11</td>\n",
              "    </tr>\n",
              "    <tr>\n",
              "      <th>3</th>\n",
              "      <td>DURANGO</td>\n",
              "      <td>epoc</td>\n",
              "      <td>2</td>\n",
              "    </tr>\n",
              "    <tr>\n",
              "      <th>4</th>\n",
              "      <td>DURANGO</td>\n",
              "      <td>hipertension</td>\n",
              "      <td>16</td>\n",
              "    </tr>\n",
              "    <tr>\n",
              "      <th>...</th>\n",
              "      <td>...</td>\n",
              "      <td>...</td>\n",
              "      <td>...</td>\n",
              "    </tr>\n",
              "    <tr>\n",
              "      <th>283</th>\n",
              "      <td>ZACATECAS</td>\n",
              "      <td>neumonia</td>\n",
              "      <td>10</td>\n",
              "    </tr>\n",
              "    <tr>\n",
              "      <th>284</th>\n",
              "      <td>ZACATECAS</td>\n",
              "      <td>obesidad</td>\n",
              "      <td>6</td>\n",
              "    </tr>\n",
              "    <tr>\n",
              "      <th>285</th>\n",
              "      <td>ZACATECAS</td>\n",
              "      <td>otra_com</td>\n",
              "      <td>5</td>\n",
              "    </tr>\n",
              "    <tr>\n",
              "      <th>286</th>\n",
              "      <td>ZACATECAS</td>\n",
              "      <td>otro_caso</td>\n",
              "      <td>61</td>\n",
              "    </tr>\n",
              "    <tr>\n",
              "      <th>287</th>\n",
              "      <td>ZACATECAS</td>\n",
              "      <td>tabaquismo</td>\n",
              "      <td>10</td>\n",
              "    </tr>\n",
              "  </tbody>\n",
              "</table>\n",
              "<p>288 rows × 3 columns</p>\n",
              "</div>"
            ],
            "text/plain": [
              "    entidad_res    comorbilidad  num_registros\n",
              "0       DURANGO            asma              6\n",
              "1       DURANGO  cardiovascular              2\n",
              "2       DURANGO        diabetes             11\n",
              "3       DURANGO            epoc              2\n",
              "4       DURANGO    hipertension             16\n",
              "..          ...             ...            ...\n",
              "283   ZACATECAS        neumonia             10\n",
              "284   ZACATECAS        obesidad              6\n",
              "285   ZACATECAS        otra_com              5\n",
              "286   ZACATECAS       otro_caso             61\n",
              "287   ZACATECAS      tabaquismo             10\n",
              "\n",
              "[288 rows x 3 columns]"
            ]
          },
          "metadata": {},
          "execution_count": 66
        }
      ]
    },
    {
      "cell_type": "markdown",
      "metadata": {
        "id": "nThv1kOLwTvW"
      },
      "source": [
        "### 5. Análisis estadísticos\n",
        "\n",
        "---"
      ]
    },
    {
      "cell_type": "markdown",
      "metadata": {
        "id": "FT3KCzCxXlJc"
      },
      "source": [
        "Generamos una columna llamada `dias_hospitalizado` que obtiene a los registros de defunciones donde el tipo de paciente es `HOSPITALIZADO`, para hacer las siguientes estadísticas con su correspondiente interpretación:"
      ]
    },
    {
      "cell_type": "code",
      "metadata": {
        "id": "wlVacbpZwXS_"
      },
      "source": [
        "defs_hospitalizado = defunciones[defunciones.tipo_paciente == \"HOSPITALIZADO\"]\n",
        "#defs_hospitalizado"
      ],
      "execution_count": 39,
      "outputs": []
    },
    {
      "cell_type": "code",
      "metadata": {
        "id": "FjUXTLL7cZWQ"
      },
      "source": [
        "dias_hospitalizado = defs_hospitalizado.fecha_def-defs_hospitalizado.fecha_ingreso\n",
        "defs_hospitalizado.insert(loc=13, column=\"dias_hospitalizado\", value=dias_hospitalizado)\n",
        "# defs_hospitalizado"
      ],
      "execution_count": 41,
      "outputs": []
    },
    {
      "cell_type": "markdown",
      "metadata": {
        "id": "RGoRc7QwYeo7"
      },
      "source": [
        "*    Min"
      ]
    },
    {
      "cell_type": "code",
      "metadata": {
        "colab": {
          "base_uri": "https://localhost:8080/"
        },
        "id": "fZrIuWD2bydc",
        "outputId": "1c016ae1-2dbe-4f1b-8cf5-8b0afb5a1195"
      },
      "source": [
        "defs_hospitalizado.dias_hospitalizado.min()"
      ],
      "execution_count": 42,
      "outputs": [
        {
          "output_type": "execute_result",
          "data": {
            "text/plain": [
              "Timedelta('-365 days +00:00:00')"
            ]
          },
          "metadata": {},
          "execution_count": 42
        }
      ]
    },
    {
      "cell_type": "markdown",
      "metadata": {
        "id": "CqlY5eSsYg9G"
      },
      "source": [
        "**Interpretación**: El número de días de la persona que estuvo menos días hospitalizado antes de fallecer es de **-365 días**. ¿Es posible esto? No, en este momento nos percatamos que es posible que existan erorres en los registros. Los trataremos más adelante."
      ]
    },
    {
      "cell_type": "markdown",
      "metadata": {
        "id": "7kIogZV0ZLMU"
      },
      "source": [
        "* Max"
      ]
    },
    {
      "cell_type": "code",
      "metadata": {
        "colab": {
          "base_uri": "https://localhost:8080/"
        },
        "id": "DhiGgp6qchmc",
        "outputId": "bffee96c-bc62-4fd0-fb03-5da61e8a7244"
      },
      "source": [
        "defs_hospitalizado.dias_hospitalizado.max()"
      ],
      "execution_count": 43,
      "outputs": [
        {
          "output_type": "execute_result",
          "data": {
            "text/plain": [
              "Timedelta('430 days 00:00:00')"
            ]
          },
          "metadata": {},
          "execution_count": 43
        }
      ]
    },
    {
      "cell_type": "markdown",
      "metadata": {
        "id": "4TPVdu_pZOuf"
      },
      "source": [
        "**Interpretación**: El número de días de la persona que estuvo más días hospitalizado antes de fallecer es de **430 días**."
      ]
    },
    {
      "cell_type": "markdown",
      "metadata": {
        "id": "DWWGwvZPZbBi"
      },
      "source": [
        "* Mediana"
      ]
    },
    {
      "cell_type": "code",
      "metadata": {
        "colab": {
          "base_uri": "https://localhost:8080/"
        },
        "id": "AwP3rm_4d4nu",
        "outputId": "e2115e11-dc68-4434-a3a2-5856cd28913a"
      },
      "source": [
        "defs_hospitalizado.dias_hospitalizado.median()"
      ],
      "execution_count": 44,
      "outputs": [
        {
          "output_type": "execute_result",
          "data": {
            "text/plain": [
              "Timedelta('6 days 00:00:00')"
            ]
          },
          "metadata": {},
          "execution_count": 44
        }
      ]
    },
    {
      "cell_type": "markdown",
      "metadata": {
        "id": "TO9qOMePZeij"
      },
      "source": [
        "**Interpretación**: La mitad de los pacientes que fallecieron estuvieron hospitalizados por debajo de 6 días, mientras que la otra mitad de los pacientes que fallecieron estuvieron por arriba de los 6 días."
      ]
    },
    {
      "cell_type": "markdown",
      "metadata": {
        "id": "8Aohvuxra0c4"
      },
      "source": [
        "* Promedio"
      ]
    },
    {
      "cell_type": "code",
      "metadata": {
        "colab": {
          "base_uri": "https://localhost:8080/"
        },
        "id": "44SsG1NfeNe5",
        "outputId": "596d4f02-25ef-4f6e-ce9c-9f6d507643c0"
      },
      "source": [
        "defs_hospitalizado.dias_hospitalizado.mean()"
      ],
      "execution_count": 45,
      "outputs": [
        {
          "output_type": "execute_result",
          "data": {
            "text/plain": [
              "Timedelta('9 days 00:20:43.280140208')"
            ]
          },
          "metadata": {},
          "execution_count": 45
        }
      ]
    },
    {
      "cell_type": "markdown",
      "metadata": {
        "id": "KlOLGKssa6DH"
      },
      "source": [
        "**Interpretación**: Las personas que fallecieron por Covid-19 estuvieron hospitalizados aproximadamente 9 días."
      ]
    },
    {
      "cell_type": "markdown",
      "metadata": {
        "id": "Q1OpjfgGbim5"
      },
      "source": [
        "* Desviación Estándar"
      ]
    },
    {
      "cell_type": "code",
      "metadata": {
        "colab": {
          "base_uri": "https://localhost:8080/"
        },
        "id": "m60SmH9XeTnE",
        "outputId": "f79086e8-7449-4629-b0f1-49ba94ca7524"
      },
      "source": [
        "defs_hospitalizado.dias_hospitalizado.std()"
      ],
      "execution_count": 46,
      "outputs": [
        {
          "output_type": "execute_result",
          "data": {
            "text/plain": [
              "Timedelta('11 days 13:50:37.822931424')"
            ]
          },
          "metadata": {},
          "execution_count": 46
        }
      ]
    },
    {
      "cell_type": "markdown",
      "metadata": {
        "id": "6K9lAuzMbm5i"
      },
      "source": [
        "**Interpretación**: Las personas que fallecieron por Covid-19 estuvieron hospitalizados aproximadamente entre -2 días y 20 días. De nuevo, el primer dato del rango no es posible."
      ]
    },
    {
      "cell_type": "markdown",
      "metadata": {
        "id": "XcjAEUGJcOf2"
      },
      "source": [
        "* Primer Cuartil"
      ]
    },
    {
      "cell_type": "code",
      "metadata": {
        "colab": {
          "base_uri": "https://localhost:8080/"
        },
        "id": "fET0kJ8Rf7LM",
        "outputId": "19666bd6-b86a-438a-de8a-c034c49e7659"
      },
      "source": [
        "defs_hospitalizado.dias_hospitalizado.quantile(0.25)"
      ],
      "execution_count": 47,
      "outputs": [
        {
          "output_type": "execute_result",
          "data": {
            "text/plain": [
              "Timedelta('3 days 00:00:00')"
            ]
          },
          "metadata": {},
          "execution_count": 47
        }
      ]
    },
    {
      "cell_type": "markdown",
      "metadata": {
        "id": "bktkVU9zcUZb"
      },
      "source": [
        "**Interpretación**: El 25% de las personas que fallecieron por covid estuvieron hospitalizadas, máximo, hasta por 3 días."
      ]
    },
    {
      "cell_type": "markdown",
      "metadata": {
        "id": "hiYPhNOZc0nr"
      },
      "source": [
        "* Tercer Cuartil"
      ]
    },
    {
      "cell_type": "code",
      "metadata": {
        "colab": {
          "base_uri": "https://localhost:8080/"
        },
        "id": "6FOn7QKJgio9",
        "outputId": "8a8b984d-4089-4506-f276-1173ffe20f58"
      },
      "source": [
        "defs_hospitalizado.dias_hospitalizado.quantile(0.75)"
      ],
      "execution_count": 48,
      "outputs": [
        {
          "output_type": "execute_result",
          "data": {
            "text/plain": [
              "Timedelta('12 days 00:00:00')"
            ]
          },
          "metadata": {},
          "execution_count": 48
        }
      ]
    },
    {
      "cell_type": "markdown",
      "metadata": {
        "id": "6azmmBuxc7Vo"
      },
      "source": [
        "**Interpretación**: El 75% de las personas que fallecieron por covid estuvieron hospitalizadas, máximo, hasta por 12 días."
      ]
    },
    {
      "cell_type": "markdown",
      "metadata": {
        "id": "Xh-Y1pXvo0Va"
      },
      "source": [
        "### Análisis extra."
      ]
    },
    {
      "cell_type": "markdown",
      "metadata": {
        "id": "1l-AerVNdlPv"
      },
      "source": [
        "*Dataframe* (y conteo) de los registros que tienen un error. ¿Cuál error? La fecha de ingreso al hospital es más reciente que la fecha de defunción."
      ]
    },
    {
      "cell_type": "code",
      "metadata": {
        "colab": {
          "base_uri": "https://localhost:8080/"
        },
        "id": "u6AiLTI0o4YA",
        "outputId": "9a7acd9e-9175-4220-8254-0e2e7b005ce3"
      },
      "source": [
        "registros_error = defs_hospitalizado[defs_hospitalizado.dias_hospitalizado < pd.Timedelta(days=0)]\n",
        "num_errores = registros_error.shape[0]\n",
        "\n",
        "print(\"El número de registros que tienen errores en la fecha de ingreso y/o fecha de defunción es: \"+str(num_errores))"
      ],
      "execution_count": 49,
      "outputs": [
        {
          "output_type": "stream",
          "name": "stdout",
          "text": [
            "El número de registros que tienen errores en la fecha de ingreso y/o fecha de defunción es: 45\n"
          ]
        }
      ]
    },
    {
      "cell_type": "markdown",
      "metadata": {
        "id": "Gw_heL-Kd0SX"
      },
      "source": [
        "*Dataframe* con el filtrado de los registros que tienen la fecha de defunción más reciente que la fecha de ingreso al hospital."
      ]
    },
    {
      "cell_type": "code",
      "metadata": {
        "id": "8qukKKo0ukkd"
      },
      "source": [
        "registros_dias_positivos = defs_hospitalizado[defs_hospitalizado.dias_hospitalizado >= pd.Timedelta(days=0)]\n",
        "#registros_dias_positivos"
      ],
      "execution_count": 50,
      "outputs": []
    },
    {
      "cell_type": "code",
      "metadata": {
        "colab": {
          "base_uri": "https://localhost:8080/"
        },
        "id": "YK51nfuP1DHW",
        "outputId": "3b612b1d-359b-4fe7-d4c9-2bfab7e9659b"
      },
      "source": [
        "# Obtención de datos\n",
        "min = registros_dias_positivos.dias_hospitalizado.min()\n",
        "max = registros_dias_positivos.dias_hospitalizado.max()\n",
        "mediana = registros_dias_positivos.dias_hospitalizado.median()\n",
        "promedio = registros_dias_positivos.dias_hospitalizado.mean()\n",
        "desv_std = registros_dias_positivos.dias_hospitalizado.std()\n",
        "q1 = registros_dias_positivos.dias_hospitalizado.quantile(0.25)\n",
        "q3 = registros_dias_positivos.dias_hospitalizado.quantile(0.75)\n",
        "\n",
        "# Impresión de datos\n",
        "print(\"Mínimo: {}\".format(min))\n",
        "print(\"Máximo: {}\".format(max))\n",
        "print(\"Mediana: {}\".format(mediana))\n",
        "print(\"Promedio: {}\".format(promedio))\n",
        "print(\"Desviación estándar: {}\".format(desv_std))\n",
        "print(\"Primer cuartil: {}\".format(q1))\n",
        "print(\"Tercer cuartil: {}\".format(q3))\n"
      ],
      "execution_count": 51,
      "outputs": [
        {
          "output_type": "stream",
          "name": "stdout",
          "text": [
            "Mínimo: 0 days 00:00:00\n",
            "Máximo: 430 days 00:00:00\n",
            "Mediana: 6 days 00:00:00\n",
            "Promedio: 9 days 00:45:28.868786634\n",
            "Desviación estándar: 11 days 11:27:12.996688699\n",
            "Primer cuartil: 3 days 00:00:00\n",
            "Tercer cuartil: 12 days 00:00:00\n"
          ]
        }
      ]
    },
    {
      "cell_type": "markdown",
      "metadata": {
        "id": "HurB4EKmd-1l"
      },
      "source": [
        "**Interpretación**: Es análoga a la realizada en la pregunta 5. Debido al tiempo, no pude terminar este análisis. Lo siento, maestra. Le he fallado."
      ]
    }
  ]
}