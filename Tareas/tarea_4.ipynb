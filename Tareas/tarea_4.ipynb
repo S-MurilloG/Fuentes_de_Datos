{
  "nbformat": 4,
  "nbformat_minor": 0,
  "metadata": {
    "colab": {
      "name": "tarea_4.ipynb",
      "provenance": [],
      "collapsed_sections": []
    },
    "kernelspec": {
      "name": "python3",
      "display_name": "Python 3"
    },
    "language_info": {
      "name": "python"
    }
  },
  "cells": [
    {
      "cell_type": "markdown",
      "metadata": {
        "id": "n_tzgP3v0TC0"
      },
      "source": [
        "## Tarea 4\n",
        "#### Sebastián Murillo García 191838\n",
        "25 de octubre, 2021"
      ]
    },
    {
      "cell_type": "markdown",
      "metadata": {
        "id": "wI6C1_lU1cdr"
      },
      "source": [
        "En esta tarea se implementan los conocimientos adquiridos en clase sobre el lenguaje de programación **Python** para jugar con la máquina dos diferentes modalidades del famoso juego \"pieda papel o tijera\" (juego clásico y juego ampliado) con 3 distintos formatos de juego (normal, gana casa y empate)."
      ]
    },
    {
      "cell_type": "markdown",
      "metadata": {
        "id": "3xhZFj7p2OpV"
      },
      "source": [
        "**Nota 1**: Es importante implementar la librería `random` para que la máquina pueda hacer una selección aleatoria de la estrategia que va a seguir en cada partida del juego."
      ]
    },
    {
      "cell_type": "code",
      "metadata": {
        "id": "tVcZfubn4q7j"
      },
      "source": [
        "import random"
      ],
      "execution_count": null,
      "outputs": []
    },
    {
      "cell_type": "markdown",
      "metadata": {
        "id": "wNDx-3sQ3cAJ"
      },
      "source": [
        "**Nota 2**: Si se desea, el jugador puede poner su `nombre de usuario` como primer o segundo parámetro (entre comillas, por ejemplo: \"Muri\")dependiendo de la función que se ejecute. Esta implementación adicional se hizo para que el juego sea más \"personalizado\" para el jugador. Si no se coloca el nombre de usuario como parámetro, por default las funciones lo toman como \"jugador\"."
      ]
    },
    {
      "cell_type": "markdown",
      "metadata": {
        "id": "iBoHjvJJ4Y5E"
      },
      "source": [
        "**Nota 3**: Para cada función generada en esta tarea, se juegan 10 veces con la máquina. En cada partida se imprime la selección de estrategia que tuvo cada jugador y quién fue el ganador. Terminando las 10 partidas, se imprime el marcador final y el ganador definitivo del juego.\n",
        "\n",
        "Adicionalmente,  se implementó la opción de *forzar el término de un juego*. Si el jugador da como entrada la letra \"`Q`\", el juego termina en la partida que está corriendo, hace una impresión de que se forzó el término del juego e imprime el marcador final y el ganador."
      ]
    },
    {
      "cell_type": "markdown",
      "metadata": {
        "id": "tg5c644l72x5"
      },
      "source": [
        "**Nota 4**: Si la entrada dada por el jugador no es alguna de las opciones de estrategias del juego, el programa solicita (tantas veces como sea necesario) que se *ingrese una entrada válida* para continuar con el juego."
      ]
    },
    {
      "cell_type": "markdown",
      "metadata": {
        "id": "fVcu_ACC0qpB"
      },
      "source": [
        "1. Función `juego_clasico()`. Permite jugar piedra, papel o tijeras con la \"máquina\". El programa pregunta y acepta una entrada de estrategia por parte del jugador: `(piedra, papel o tijera)`, y la \"máquina\" jugega con nosotros."
      ]
    },
    {
      "cell_type": "code",
      "metadata": {
        "id": "PiXDciqs0Nkh"
      },
      "source": [
        "def juego_clasico(usuario=\"jugador\"):\n",
        "  # Si lo desea, el jugador podrá poner su nombre de usuario como parámetro, pero no es necesario\"\n",
        "  opciones = [\"piedra\", \"papel\", \"tijera\",\"q\"]\n",
        "  # Bandera para forzar el término de un juego\n",
        "  bandera = True\n",
        "  # Listas acumuladoras de puntaje para cada juador\n",
        "  jugador = []\n",
        "  maquina = []\n",
        "\n",
        "  i = 1\n",
        "  while bandera and i <= 10:\n",
        "    # Obtención de la estrategia del jugador como entrada\n",
        "    ent = input(\"¿piedra, papel o tijera? \")\n",
        "    ent = ent.lower()\n",
        "\n",
        "    # Manejo de entradas erróneas por parte del jugador\n",
        "    if ent not in opciones:\n",
        "      var = False\n",
        "      while not var:\n",
        "        e = input(\"Ingrese una estrategia válida {piedra, papel o tijera}: \")\n",
        "        e = e.lower()\n",
        "        if e in opciones:\n",
        "          var = True\n",
        "          ent = e\n",
        "    \n",
        "    # Si no se salió del juego\n",
        "    if ent != \"q\":\n",
        "      # Selección aleatoria de la estrategia utilizada por la máquina\n",
        "      maq = opciones[random.randint(0,2)]\n",
        "      # Elección del ganador de la partida\n",
        "      if ent == maq:\n",
        "        ganador = \"empate\"\n",
        "      elif (ent == \"piedra\" and maq == \"tijera\") or (ent == \"papel\" and maq == \"piedra\") or (ent == \"tijera\" and maq == \"papel\"):\n",
        "        ganador = usuario\n",
        "        jugador.append(1)\n",
        "      else:\n",
        "        ganador = \"máquina\"\n",
        "        maquina.append(1)\n",
        "      # Impresión de las selecciones de los jugadores y el ganador de la partida\n",
        "      print(\"\\t\"+usuario.capitalize()+\": \"+ent+\" | Máquina: \"+maq)\n",
        "      print(\"\\tPartida \"+str(i)+\" - ganador en esta partida, \"+ganador+\"\\n\")\n",
        "    \n",
        "    # Si se salió del juego\n",
        "    else:\n",
        "      bandera = False\n",
        "      print(\"\\nSe forzó el término del juego en la partida \"+str(i)+\"\\n\")\n",
        "\n",
        "    i+=1\n",
        "\n",
        "  # Término de la partida\n",
        "  # Obtención del número de partidas ganadas para cada jugador.\n",
        "  j = len(jugador)\n",
        "  m = len(maquina)\n",
        "  # Impresión del marcador final y el ganador definitivo.\n",
        "  if j == m:\n",
        "    print(\"Empate entre \"+usuario+\" y máquina: \"+str(j)+\", \"+str(m))\n",
        "  elif len(jugador) > len(maquina):\n",
        "    print(\"Ganó \"+usuario+\" con \"+str(j)+\" partidas ganadas\")\n",
        "  else:\n",
        "    print(\"Ganó máquina con \"+str(m)+\" partidas ganadas\")\n",
        "    \n"
      ],
      "execution_count": null,
      "outputs": []
    },
    {
      "cell_type": "markdown",
      "metadata": {
        "id": "V6IrDXLR7BNp"
      },
      "source": [
        "Comando para jugar el `juego clásico`:"
      ]
    },
    {
      "cell_type": "code",
      "metadata": {
        "colab": {
          "base_uri": "https://localhost:8080/"
        },
        "id": "B8UvNB6-6_ZL",
        "outputId": "7006e2dc-8723-469a-a417-f6bb7b557ede"
      },
      "source": [
        "juego_clasico()"
      ],
      "execution_count": null,
      "outputs": [
        {
          "output_type": "stream",
          "name": "stdout",
          "text": [
            "¿piedra, papel o tijera? papel\n",
            "\tMuri: papel | Máquina: tijera\n",
            "\tPartida 1 - ganador en esta partida, máquina\n",
            "\n",
            "¿piedra, papel o tijera? tijera\n",
            "\tMuri: tijera | Máquina: tijera\n",
            "\tPartida 2 - ganador en esta partida, empate\n",
            "\n",
            "¿piedra, papel o tijera? piedra\n",
            "\tMuri: piedra | Máquina: tijera\n",
            "\tPartida 3 - ganador en esta partida, Muri\n",
            "\n",
            "¿piedra, papel o tijera? q\n",
            "\n",
            "Se forzó el término del juego en la partida 4\n",
            "\n",
            "Empate entre Muri y máquina: 1, 1\n"
          ]
        }
      ]
    },
    {
      "cell_type": "markdown",
      "metadata": {
        "id": "gxOzch61-TpV"
      },
      "source": [
        "2. Función `juego_ampliado()`. Permite jugar piedra, papel, tijera, lagarto o spock con la \"máquina\". El programa pregunta y acepta una entrada de estrategia por parte del jugador: `(piedra, papel, tijera, lagarto o spock)`, y la \"máquina\" jugega con nosotros."
      ]
    },
    {
      "cell_type": "code",
      "metadata": {
        "id": "XiaM3ZMnQfmy"
      },
      "source": [
        "def juego_ampliado(usuario=\"jugador\"):\n",
        "  # Si lo desea, el jugador podrá poner su nombre de usuario como parámetro\"\n",
        "  opciones = [\"piedra\", \"papel\", \"tijera\", \"lagarto\", \"spock\", \"q\"]\n",
        "  bandera = True\n",
        "  jugador = []\n",
        "  maquina = []\n",
        "\n",
        "  i = 1\n",
        "  while bandera and i <= 10:\n",
        "    ent = input(\"¿piedra, papel, tijera, lagarto o spock? \")\n",
        "    ent = ent.lower()\n",
        "\n",
        "    # Manejo de entradas erróneas por parte del jugador\n",
        "    if ent not in opciones:\n",
        "      var = False\n",
        "      while not var:\n",
        "        e = input(\"Ingrese una estrategia válida {piedra, papel, tijera, lagarto o spock}: \")\n",
        "        e = e.lower()\n",
        "        if e in opciones:\n",
        "          var = True\n",
        "          ent = e\n",
        "    \n",
        "    # Si no se salió del juego\n",
        "    if ent != \"q\":\n",
        "      # Selección aleatoria de la estrategia utilizada por la máquina\n",
        "      maq = opciones[random.randint(0,4)]\n",
        "      # Listas de opciones para ganar según la estrategia utilizada por el jugador\n",
        "      gana_piedra = [\"tijera\",\"lagarto\"]\n",
        "      gana_papel = [\"piedra\",\"spock\"]\n",
        "      gana_tijera = [\"papel\",\"lagarto\"]\n",
        "      gana_lagarto = [\"papel\",\"spcok\"]\n",
        "      gana_spock = [\"pieda\",\"tijera\"]\n",
        "      # Elección del ganador\n",
        "      if ent == maq:\n",
        "        ganador = \"empate\"\n",
        "      elif (ent == \"piedra\" and maq in gana_piedra) or (ent == \"papel\" and maq in gana_papel) or (ent == \"tijera\" and maq in gana_tijera) or (ent == \"lagarto\" and maq in gana_lagarto) or (ent == \"spock\" and maq in gana_spock):\n",
        "        ganador = usuario\n",
        "        jugador.append(1)\n",
        "      else:\n",
        "        ganador = \"máquina\"\n",
        "        maquina.append(1)\n",
        "      # Impresión de las selecciones de los jugadores y quién ganó\n",
        "      print(\"\\t\"+usuario.capitalize()+\": \"+ent+\" | Máquina: \"+maq)\n",
        "      print(\"\\tPartida \"+str(i)+\" - ganador en esta partida, \"+ganador+\"\\n\")\n",
        "    \n",
        "    # Si se salió del juego\n",
        "    else:\n",
        "      bandera = False\n",
        "      print(\"\\nSe forzó el término del juego en la partida \"+str(i)+\"\\n\")\n",
        "\n",
        "    i+=1\n",
        "\n",
        "  # Término de la partida\n",
        "  # Obtención del número de partidas ganadas para cada jugador.\n",
        "  j = len(jugador)\n",
        "  m = len(maquina)\n",
        "  # Impresión del marcador final y el ganador definitivo.\n",
        "  if j == m:\n",
        "    print(\"Empate entre \"+usuario+\" y máquina: \"+str(j)+\", \"+str(m))\n",
        "  elif len(jugador) > len(maquina):\n",
        "    print(\"Ganó \"+usuario+\" con \"+str(j)+\" partidas ganadas\")\n",
        "  else:\n",
        "    print(\"Ganó máquina con \"+str(m)+\" partidas ganadas\")"
      ],
      "execution_count": null,
      "outputs": []
    },
    {
      "cell_type": "markdown",
      "metadata": {
        "id": "2oh7kxg5_-5u"
      },
      "source": [
        "Comando para jugar el `juego ampliado` (con el ejemplo de un nombre de usuario dado como parámetro):"
      ]
    },
    {
      "cell_type": "code",
      "metadata": {
        "colab": {
          "base_uri": "https://localhost:8080/"
        },
        "id": "_BZE4zaQAAdg",
        "outputId": "44ba21a3-d450-4571-bf36-b336be53b9b7"
      },
      "source": [
        "juego_ampliado(\"Muri\")"
      ],
      "execution_count": null,
      "outputs": [
        {
          "output_type": "stream",
          "name": "stdout",
          "text": [
            "¿piedra, papel, tijera, lagarto o spock? papel\n",
            "\tEl mejor de los jugadores: papel | Máquina: tijera\n",
            "\tPartida 1 - ganador en esta partida, máquina\n",
            "\n",
            "¿piedra, papel, tijera, lagarto o spock? spock\n",
            "\tEl mejor de los jugadores: spock | Máquina: piedra\n",
            "\tPartida 2 - ganador en esta partida, máquina\n",
            "\n",
            "¿piedra, papel, tijera, lagarto o spock? lagarto\n",
            "\tEl mejor de los jugadores: lagarto | Máquina: tijera\n",
            "\tPartida 3 - ganador en esta partida, máquina\n",
            "\n",
            "¿piedra, papel, tijera, lagarto o spock? lagarto\n",
            "\tEl mejor de los jugadores: lagarto | Máquina: papel\n",
            "\tPartida 4 - ganador en esta partida, El mejor de los jugadores\n",
            "\n",
            "¿piedra, papel, tijera, lagarto o spock? spock\n",
            "\tEl mejor de los jugadores: spock | Máquina: papel\n",
            "\tPartida 5 - ganador en esta partida, máquina\n",
            "\n",
            "¿piedra, papel, tijera, lagarto o spock? papel\n",
            "\tEl mejor de los jugadores: papel | Máquina: papel\n",
            "\tPartida 6 - ganador en esta partida, empate\n",
            "\n",
            "¿piedra, papel, tijera, lagarto o spock? piedra\n",
            "\tEl mejor de los jugadores: piedra | Máquina: spock\n",
            "\tPartida 7 - ganador en esta partida, máquina\n",
            "\n",
            "¿piedra, papel, tijera, lagarto o spock? hola\n",
            "Ingrese una estrategia válida {piedra, papel, tijera, lagarto o spock}: piedra\n",
            "\tEl mejor de los jugadores: piedra | Máquina: piedra\n",
            "\tPartida 8 - ganador en esta partida, empate\n",
            "\n",
            "¿piedra, papel, tijera, lagarto o spock? q\n",
            "\n",
            "Se forzó el término del juego en la partida 9\n",
            "\n",
            "Ganó máquina con 5 partidas ganadas\n"
          ]
        }
      ]
    },
    {
      "cell_type": "markdown",
      "metadata": {
        "id": "-yQwofCwAnJx"
      },
      "source": [
        "3. Función `juego_clasico(formato)`. Permite jugar piedra, papel o tijera con la máquina. Se pasa como parámetro el valor `gana_casa`. Este formato permite que la máquina siempre gane. Si el formato es cualquier otra cosa, jugamos \"sin trabas\" con la máquina."
      ]
    },
    {
      "cell_type": "code",
      "metadata": {
        "id": "jOs1JXmeWFfC"
      },
      "source": [
        "def juego_clasico(formato,usuario=\"jugador\"):\n",
        "  # Si lo desea, el jugador podrá poner su nombre de usuario como segundo parámetro\"\n",
        "  opciones = [\"piedra\", \"papel\", \"tijera\",\"q\"]\n",
        "  bandera = True\n",
        "  jugador = []\n",
        "  maquina = []\n",
        "\n",
        "  i = 1\n",
        "  while bandera and i <= 10:\n",
        "    ent = input(\"¿piedra, papel o tijera? \")\n",
        "    ent = ent.lower()\n",
        "\n",
        "    # Manejo de entradas erróneas por parte del jugador\n",
        "    if ent not in opciones:\n",
        "      var = False\n",
        "      while not var:\n",
        "        e = input(\"Ingrese una estrategia válida {piedra, papel o tijera}: \")\n",
        "        e = e.lower()\n",
        "        if e in opciones:\n",
        "          var = True\n",
        "          ent = e\n",
        "    \n",
        "    # Si no se salió del juego\n",
        "    if ent != \"q\":\n",
        "      # Selección de la estrategia por parte de la máquina según el formato\n",
        "      # Si el formato es gana_casa, la máquina siempre gana\n",
        "      if formato == \"gana_casa\":\n",
        "        if ent == \"piedra\":\n",
        "          maq = \"papel\"\n",
        "        elif ent == \"papel\" :\n",
        "          maq = \"tijera\"\n",
        "        else:\n",
        "          maq = \"piedra\"\n",
        "      # Si el formato no es gana_casa, la máquina selecciona aleatoriamente su estrategia \n",
        "      else:\n",
        "        maq = opciones[random.randint(0,2)]\n",
        "      \n",
        "      # Elección del ganador\n",
        "      if ent == maq:\n",
        "        ganador = \"empate\"\n",
        "      elif (ent == \"piedra\" and maq == \"tijera\") or (ent == \"papel\" and maq == \"piedra\") or (ent == \"tijera\" and maq == \"papel\"):\n",
        "        ganador = usuario\n",
        "        jugador.append(1)\n",
        "      else:\n",
        "        ganador = \"máquina\"\n",
        "        maquina.append(1)\n",
        "      # Impresión de las selecciones de los jugadores y quién ganó\n",
        "      print(\"\\t\"+usuario.capitalize()+\": \"+ent+\" | Máquina: \"+maq)\n",
        "      print(\"\\tPartida \"+str(i)+\" - ganador en esta partida, \"+ganador+\"\\n\")\n",
        "    \n",
        "    # Si se salió del juego\n",
        "    else:\n",
        "      bandera = False\n",
        "      print(\"\\nSe forzó el término del juego en la partida \"+str(i)+\"\\n\")\n",
        "\n",
        "    i+=1\n",
        "\n",
        "  # Término de la partida\n",
        "  # Obtención del número de partidas ganadas para cada jugador.\n",
        "  j = len(jugador)\n",
        "  m = len(maquina)\n",
        "  # Impresión del marcador final y el ganador definitivo.\n",
        "  if j == m:\n",
        "    print(\"Empate entre \"+usuario+\" y máquina: \"+str(j)+\", \"+str(m))\n",
        "  elif len(jugador) > len(maquina):\n",
        "    print(\"Ganó \"+usuario+\" con \"+str(j)+\" partidas ganadas\")\n",
        "  else:\n",
        "    print(\"Ganó máquina con \"+str(m)+\" partidas ganadas\")"
      ],
      "execution_count": null,
      "outputs": []
    },
    {
      "cell_type": "markdown",
      "metadata": {
        "id": "_F3VkenICM6y"
      },
      "source": [
        "Comando para jugar el `juego clásico` con el formato `gana_casa`:"
      ]
    },
    {
      "cell_type": "code",
      "metadata": {
        "colab": {
          "base_uri": "https://localhost:8080/"
        },
        "id": "u57zzvPqCU-e",
        "outputId": "e63e92f1-fe53-4d0f-a3cf-1526dd2e1c60"
      },
      "source": [
        "juego_clasico('gana_casa')"
      ],
      "execution_count": null,
      "outputs": [
        {
          "output_type": "stream",
          "name": "stdout",
          "text": [
            "¿piedra, papel o tijera? Papel\n",
            "\tJugador: papel | Máquina: tijera\n",
            "\tPartida 1 - ganador en esta partida, máquina\n",
            "\n",
            "¿piedra, papel o tijera? Piedra\n",
            "\tJugador: piedra | Máquina: papel\n",
            "\tPartida 2 - ganador en esta partida, máquina\n",
            "\n",
            "¿piedra, papel o tijera? Spock\n",
            "Ingrese una estrategia válida {piedra, papel o tijera}: tijera\n",
            "\tJugador: tijera | Máquina: piedra\n",
            "\tPartida 3 - ganador en esta partida, máquina\n",
            "\n",
            "¿piedra, papel o tijera? piedra\n",
            "\tJugador: piedra | Máquina: papel\n",
            "\tPartida 4 - ganador en esta partida, máquina\n",
            "\n",
            "¿piedra, papel o tijera? tijera\n",
            "\tJugador: tijera | Máquina: piedra\n",
            "\tPartida 5 - ganador en esta partida, máquina\n",
            "\n",
            "¿piedra, papel o tijera? papel\n",
            "\tJugador: papel | Máquina: tijera\n",
            "\tPartida 6 - ganador en esta partida, máquina\n",
            "\n",
            "¿piedra, papel o tijera? papel\n",
            "\tJugador: papel | Máquina: tijera\n",
            "\tPartida 7 - ganador en esta partida, máquina\n",
            "\n",
            "¿piedra, papel o tijera? lagarto\n",
            "Ingrese una estrategia válida {piedra, papel o tijera}: q\n",
            "\n",
            "Se forzó el término del juego en la partida 8\n",
            "\n",
            "Ganó máquina con 7 partidas ganadas\n"
          ]
        }
      ]
    },
    {
      "cell_type": "markdown",
      "metadata": {
        "id": "Y9gx0C9CCz2q"
      },
      "source": [
        "4. Función `juego_clasico(formato)` Permite jugar piedra, papel o tijera con la máquina. Se pasa como parámetro el valor `empate`. Este formato permite que siempre terminemos empatados con la máquina. Esta función considera la implementación hecha en la función anterior, es decir, si el formato es `gana_casa`, el formato permite que cada partida gane la máquina. Si el formato es cualquier otra cosa, jugamos \"sin trabas\" con la máquina."
      ]
    },
    {
      "cell_type": "code",
      "metadata": {
        "id": "XMndklkyaFm9"
      },
      "source": [
        "def juego_clasico(formato,usuario=\"jugador\"):\n",
        "  # Si lo desea, el jugador podrá poner su nombre de usuario como segundo parámetro\"\n",
        "  opciones = [\"piedra\", \"papel\", \"tijera\",\"q\"]\n",
        "  bandera = True\n",
        "  jugador = []\n",
        "  maquina = []\n",
        "\n",
        "  i = 1\n",
        "  while bandera and i <= 10:\n",
        "    ent = input(\"¿piedra, papel o tijera? \")\n",
        "    ent = ent.lower()\n",
        "\n",
        "    # Manejo de entradas erróneas por parte del jugador\n",
        "    if ent not in opciones:\n",
        "      var = False\n",
        "      while not var:\n",
        "        e = input(\"Ingrese una estrategia válida {piedra, papel o tijera}: \")\n",
        "        e = e.lower()\n",
        "        if e in opciones:\n",
        "          var = True\n",
        "          ent = e\n",
        "    \n",
        "    # Si no se salió del juego\n",
        "    if ent != \"q\":\n",
        "      # Selección de la estrategia por parte de la máquina según el formato\n",
        "      # Si el formato es gana_casa, la máquina siempre gana\n",
        "      if formato == \"gana_casa\":\n",
        "        if ent == \"piedra\":\n",
        "          maq = \"papel\"\n",
        "        elif ent == \"papel\" :\n",
        "          maq = \"tijera\"\n",
        "        else:\n",
        "          maq = \"piedra\"\n",
        "      # Si el formato es empate, siempre quedamos empatados con la máquina\n",
        "      elif formato == \"empate\":\n",
        "        maq = ent\n",
        "      # Si el formato es cualquier otra cosa, la máquina selecciona aleatoriamente su estrategia \n",
        "      else:\n",
        "        maq = opciones[random.randint(0,2)]\n",
        "      \n",
        "      # Elección del ganador\n",
        "      if ent == maq:\n",
        "        ganador = \"empate\"\n",
        "        jugador.append(1)\n",
        "        maquina.append(1)\n",
        "      elif (ent == \"piedra\" and maq == \"tijera\") or (ent == \"papel\" and maq == \"piedra\") or (ent == \"tijera\" and maq == \"papel\"):\n",
        "        ganador = usuario\n",
        "        jugador.append(1)\n",
        "      else:\n",
        "        ganador = \"máquina\"\n",
        "        maquina.append(1)\n",
        "      # Impresión de las selecciones de los jugadores y quién ganó\n",
        "      print(\"\\t\"+usuario.capitalize()+\": \"+ent+\" | Máquina: \"+maq)\n",
        "      print(\"\\tPartida \"+str(i)+\" - ganador en esta partida, \"+ganador+\"\\n\")\n",
        "    \n",
        "    # Si se salió del juego\n",
        "    else:\n",
        "      bandera = False\n",
        "      print(\"\\nSe forzó el término del juego en la partida \"+str(i)+\"\\n\")\n",
        "\n",
        "    i+=1\n",
        "\n",
        "  # Término de la partida\n",
        "  # Obtención del número de partidas ganadas para cada jugador.\n",
        "  j = len(jugador)\n",
        "  m = len(maquina)\n",
        "  # Impresión del marcador final y el ganador definitivo.\n",
        "  if j == m:\n",
        "    print(\"Empate entre \"+usuario+\" y máquina: \"+str(j)+\", \"+str(m))\n",
        "  elif len(jugador) > len(maquina):\n",
        "    print(\"Ganó \"+usuario+\" con \"+str(j)+\" partidas ganadas\")\n",
        "  else:\n",
        "    print(\"Ganó máquina con \"+str(m)+\" partidas ganadas\")"
      ],
      "execution_count": null,
      "outputs": []
    },
    {
      "cell_type": "markdown",
      "metadata": {
        "id": "RyfkDAxtEx6a"
      },
      "source": [
        "Comando para jugar el `juego clasico` con el formato `empate` (y el ejemplo de un nombre de usuario dado como parámetro):"
      ]
    },
    {
      "cell_type": "code",
      "metadata": {
        "colab": {
          "base_uri": "https://localhost:8080/"
        },
        "id": "kF71sHBVChMr",
        "outputId": "739f12e3-fdac-43ac-c2f9-4f4c6abd09f3"
      },
      "source": [
        "juego_clasico(\"empate\",\"Carmen Q\")"
      ],
      "execution_count": null,
      "outputs": [
        {
          "output_type": "stream",
          "name": "stdout",
          "text": [
            "¿piedra, papel o tijera? papel\n",
            "\tCarmen q: papel | Máquina: papel\n",
            "\tPartida 1 - ganador en esta partida, empate\n",
            "\n",
            "¿piedra, papel o tijera? piedra\n",
            "\tCarmen q: piedra | Máquina: piedra\n",
            "\tPartida 2 - ganador en esta partida, empate\n",
            "\n",
            "¿piedra, papel o tijera? piedra\n",
            "\tCarmen q: piedra | Máquina: piedra\n",
            "\tPartida 3 - ganador en esta partida, empate\n",
            "\n",
            "¿piedra, papel o tijera? papel\n",
            "\tCarmen q: papel | Máquina: papel\n",
            "\tPartida 4 - ganador en esta partida, empate\n",
            "\n",
            "¿piedra, papel o tijera? tijera\n",
            "\tCarmen q: tijera | Máquina: tijera\n",
            "\tPartida 5 - ganador en esta partida, empate\n",
            "\n",
            "¿piedra, papel o tijera? q\n",
            "\n",
            "Se forzó el término del juego en la partida 6\n",
            "\n",
            "Empate entre Carmen Q y máquina: 5, 5\n"
          ]
        }
      ]
    }
  ]
}